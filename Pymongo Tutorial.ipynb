{
 "cells": [
  {
   "cell_type": "markdown",
   "metadata": {},
   "source": [
    "### pymongo\n",
    "Inorder to connect to mongodb, python needs mongodb driver pymongo."
   ]
  },
  {
   "cell_type": "code",
   "execution_count": 272,
   "metadata": {},
   "outputs": [],
   "source": [
    "from pymongo import MongoClient\n",
    "from bson.objectid import ObjectId\n",
    "\n",
    "# Create a client connection to the MongoDb instance running on the local machine\n",
    "client = MongoClient('localhost:27017')\n",
    "# Defining a database object to insert data into the MongoDb database.\n",
    "db = client.EmployeeData"
   ]
  },
  {
   "cell_type": "markdown",
   "metadata": {},
   "source": [
    "### 1. Create"
   ]
  },
  {
   "cell_type": "code",
   "execution_count": 102,
   "metadata": {},
   "outputs": [
    {
     "name": "stdout",
     "output_type": "stream",
     "text": [
      "\n",
      "Inserted data successfully\n",
      "\n"
     ]
    }
   ],
   "source": [
    "employeeId = 1\n",
    "employeeName = \"Dinesh Sonachalam\"\n",
    "# Inserts a document to a collection called Employee\n",
    "db.Employees.insert_one(\n",
    "            {\n",
    "                \"id\": employeeId,\n",
    "                \"name\":employeeName,\n",
    "              \n",
    "            })\n",
    "print('\\nInserted data successfully\\n')"
   ]
  },
  {
   "cell_type": "markdown",
   "metadata": {},
   "source": [
    "### 2. Read all data"
   ]
  },
  {
   "cell_type": "code",
   "execution_count": 211,
   "metadata": {},
   "outputs": [
    {
     "name": "stdout",
     "output_type": "stream",
     "text": [
      "{u'_id': ObjectId('5bcaf556ccf9624534390d66'), u'id': 1, u'name': u'Dinesh Sonachalam'}\n",
      "{u'_id': ObjectId('5bcaf639ccf9624534390d69'), u'id': 2, u'name': u'Niranjan'}\n"
     ]
    }
   ],
   "source": [
    "empcol = db.Employees.find()\n",
    "for emp in empcol:\n",
    "    print(emp)"
   ]
  },
  {
   "cell_type": "markdown",
   "metadata": {},
   "source": [
    "### 3. Read specific data"
   ]
  },
  {
   "cell_type": "code",
   "execution_count": 251,
   "metadata": {},
   "outputs": [
    {
     "name": "stdout",
     "output_type": "stream",
     "text": [
      "{u'_id': ObjectId('5bcaf556ccf9624534390d66'), u'id': 1, u'name': u'Dinesh Sonachalam'}\n"
     ]
    }
   ],
   "source": [
    "empcol = db.Employees.find({\"name\":\"Dinesh Sonachalam\"})\n",
    "for data in empcol:\n",
    "    print(data)"
   ]
  },
  {
   "cell_type": "markdown",
   "metadata": {},
   "source": [
    "### 4. Update specific data"
   ]
  },
  {
   "cell_type": "code",
   "execution_count": 286,
   "metadata": {},
   "outputs": [
    {
     "name": "stdout",
     "output_type": "stream",
     "text": [
      "Update is successful! \n",
      "Now reading all data.\n",
      "{u'_id': ObjectId('5bcaf556ccf9624534390d66'), u'id': 1, u'name': u'tom'}\n",
      "{u'_id': ObjectId('5bcaf639ccf9624534390d69'), u'id': 2, u'name': u'Niranjan'}\n"
     ]
    }
   ],
   "source": [
    "myquery = { 'id': 1 }\n",
    "newvalues = { \"$set\": { \"name\": \"tom\" } }\n",
    "\n",
    "db.Employees.update_one(myquery, newvalues)\n",
    "print(\"Update is successful! \")\n",
    "print(\"Now reading all data.\")\n",
    "\n",
    "empcol = db.Employees.find()\n",
    "for emp in empcol:\n",
    "    print(emp)"
   ]
  },
  {
   "cell_type": "code",
   "execution_count": 287,
   "metadata": {},
   "outputs": [
    {
     "name": "stdout",
     "output_type": "stream",
     "text": [
      "Update is successful! \n",
      "Now reading all data.\n",
      "{u'_id': ObjectId('5bcaf556ccf9624534390d66'), u'id': 1, u'name': u'Rock'}\n",
      "{u'_id': ObjectId('5bcaf639ccf9624534390d69'), u'id': 2, u'name': u'Niranjan'}\n"
     ]
    }
   ],
   "source": [
    "myquery = { '_id': ObjectId('5bcaf556ccf9624534390d66')}\n",
    "newvalues = { \"$set\": { \"name\": \"Rock\" } }\n",
    "\n",
    "db.Employees.update_one(myquery, newvalues)\n",
    "print(\"Update is successful! \")\n",
    "print(\"Now reading all data.\")\n",
    "\n",
    "empcol = db.Employees.find()\n",
    "for emp in empcol:\n",
    "    print(emp)"
   ]
  },
  {
   "cell_type": "markdown",
   "metadata": {},
   "source": [
    "### 5. Delete specific data"
   ]
  },
  {
   "cell_type": "code",
   "execution_count": 289,
   "metadata": {},
   "outputs": [
    {
     "name": "stdout",
     "output_type": "stream",
     "text": [
      "Deleted successfully! \n",
      "Now reading all data.\n",
      "{u'_id': ObjectId('5bcaf639ccf9624534390d69'), u'id': 2, u'name': u'Niranjan'}\n"
     ]
    }
   ],
   "source": [
    "myquery = { '_id': ObjectId('5bcaf556ccf9624534390d66')}\n",
    "db.Employees.delete_one(myquery)\n",
    "print(\"Deleted successfully! \")\n",
    "print(\"Now reading all data.\")\n",
    "\n",
    "empcol = db.Employees.find()\n",
    "for emp in empcol:\n",
    "    print(emp)"
   ]
  }
 ],
 "metadata": {
  "kernelspec": {
   "display_name": "Python 2",
   "language": "python",
   "name": "python2"
  },
  "language_info": {
   "codemirror_mode": {
    "name": "ipython",
    "version": 2
   },
   "file_extension": ".py",
   "mimetype": "text/x-python",
   "name": "python",
   "nbconvert_exporter": "python",
   "pygments_lexer": "ipython2",
   "version": "2.7.15rc1"
  }
 },
 "nbformat": 4,
 "nbformat_minor": 2
}
